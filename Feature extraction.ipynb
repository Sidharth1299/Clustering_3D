{
 "cells": [
  {
   "cell_type": "code",
   "execution_count": null,
   "metadata": {
    "id": "rM2Eh47Mh3xD"
   },
   "outputs": [],
   "source": [
    "!pip install trimesh pyrender torch torchvision hdbscan Pillow matplotlib numpy-stl opencv-python scikit-learn pyrender\n"
   ]
  },
  {
   "cell_type": "code",
   "execution_count": null,
   "metadata": {},
   "outputs": [],
   "source": [
    "import os\n",
    "import shutil\n",
    "import numpy as np\n",
    "import hdbscan\n",
    "import torch\n",
    "from torch import nn\n",
    "from torchvision import models, transforms\n",
    "import matplotlib.pyplot as plt\n",
    "import pandas as pd\n",
    "from sklearn.preprocessing import StandardScaler\n",
    "from sklearn.metrics import silhouette_score\n",
    "from stl import mesh as np_mesh  # Import numpy-stl\n"
   ]
  },
  {
   "cell_type": "code",
   "execution_count": null,
   "metadata": {
    "id": "rP13Yc4Sh5LJ"
   },
   "outputs": [],
   "source": [
    "import os\n",
    "os.environ[\"PYOPENGL_PLATFORM\"] = \"egl\""
   ]
  },
  {
   "cell_type": "code",
   "execution_count": null,
   "metadata": {
    "id": "9fjtss-6h5Wk"
   },
   "outputs": [],
   "source": [
    "\n",
    "# Paths\n",
    "input_folder = ''  # Path to your STL files\n",
    "output_folder = ''  # Output folder for clustered files\n",
    "features_folder = ''  # Folder to save features\n",
    "os.makedirs(output_folder, exist_ok=True)\n",
    "os.makedirs(features_folder, exist_ok=True)\n",
    "\n",
    "# Function to load STL file using numpy-stl and generate projections using Matplotlib\n",
    "def generate_projections(stl_file):\n",
    "    try:\n",
    "        # Load STL file with numpy-stl\n",
    "        your_mesh = np_mesh.Mesh.from_file(stl_file)\n",
    "        print(f\"Loaded {stl_file}\")  # Debug print\n",
    "\n",
    "        # Extract vertices and faces\n",
    "        vertices = your_mesh.vectors.reshape(-1, 3)\n",
    "        faces = np.arange(len(vertices)).reshape(-1, 3)\n",
    "\n",
    "        # Create a figure for plotting\n",
    "        fig = plt.figure(figsize=(4, 4))\n",
    "\n",
    "        # Isometric view\n",
    "        ax = fig.add_subplot(111, projection='3d')\n",
    "        ax.plot_trisurf(vertices[:, 0], vertices[:, 1], vertices[:, 2], triangles=faces, cmap='gray', edgecolor='none')\n",
    "        ax.view_init(elev=30, azim=45)\n",
    "        plt.axis('off')\n",
    "        fig.tight_layout(pad=0)\n",
    "        fig.canvas.draw()\n",
    "        iso_view = np.frombuffer(fig.canvas.tostring_rgb(), dtype=np.uint8).reshape(fig.canvas.get_width_height()[::-1] + (3,))\n",
    "\n",
    "        plt.clf()\n",
    "\n",
    "        # Orthographic views\n",
    "        ortho_views = []\n",
    "        for elev, azim in [(90, 0), (0, 0), (0, 90)]:\n",
    "            ax = fig.add_subplot(111, projection='3d')\n",
    "            ax.plot_trisurf(vertices[:, 0], vertices[:, 1], vertices[:, 2], triangles=faces, cmap='gray', edgecolor='none')\n",
    "            ax.view_init(elev=elev, azim=azim)\n",
    "            plt.axis('off')\n",
    "            fig.tight_layout(pad=0)\n",
    "            fig.canvas.draw()\n",
    "            ortho_view = np.frombuffer(fig.canvas.tostring_rgb(), dtype=np.uint8).reshape(fig.canvas.get_width_height()[::-1] + (3,))\n",
    "            ortho_views.append(ortho_view)\n",
    "            plt.clf()\n",
    "\n",
    "        plt.close(fig)\n",
    "        print(f\"Generated projections for {stl_file}\")  # Debug print\n",
    "        return iso_view, ortho_views\n",
    "    except Exception as e:\n",
    "        print(f\"Error processing {stl_file}: {e}\")\n",
    "        return None, None\n",
    "\n",
    "# Load pre-trained SqueezeNet and modify it\n",
    "class FeatureExtractor(nn.Module):\n",
    "    def __init__(self):\n",
    "        super(FeatureExtractor, self).__init__()\n",
    "        self.squeezenet = models.squeezenet1_1(pretrained=True)\n",
    "        self.features = nn.Sequential(*list(self.squeezenet.children())[:-1])\n",
    "\n",
    "    def forward(self, x):\n",
    "        return self.features(x).view(x.size(0), -1)\n",
    "\n",
    "# Move the model to CPU\n",
    "model = FeatureExtractor().eval()\n",
    "\n",
    "# Transform for input to SqueezeNet\n",
    "preprocess = transforms.Compose([\n",
    "    transforms.ToPILImage(),\n",
    "    transforms.Resize((224, 224)),\n",
    "    transforms.ToTensor(),\n",
    "    transforms.Normalize(mean=[0.485, 0.456, 0.406], std=[0.229, 0.224, 0.225]),\n",
    "])\n",
    "\n",
    "# Extract features\n",
    "stl_files = [f for f in os.listdir(input_folder) if f.endswith('.stl')]\n",
    "all_features = []\n",
    "\n",
    "for i, stl_file in enumerate(stl_files, 1):  # Start enumeration at 1\n",
    "    file_path = os.path.join(input_folder, stl_file)\n",
    "\n",
    "    # Generate projections\n",
    "    iso_view, ortho_views = generate_projections(file_path)\n",
    "    if iso_view is None or ortho_views is None:\n",
    "        continue  # Skip if there was an error in generating projections\n",
    "\n",
    "    # Extract features from projections\n",
    "    projections = [iso_view] + ortho_views\n",
    "    features = []\n",
    "    for proj in projections:\n",
    "        input_tensor = preprocess(proj).unsqueeze(0)  # Keep on CPU\n",
    "        with torch.no_grad():\n",
    "            feature = model(input_tensor).numpy().flatten()  # Keep on CPU\n",
    "            features.append(feature)\n",
    "\n",
    "    combined_features = np.concatenate(features)\n",
    "    all_features.append(combined_features)\n",
    "\n",
    "    # Save the features with the same name as the STL file\n",
    "    feature_file_name = os.path.join(features_folder, f\"{os.path.splitext(stl_file)[0]}_features.npy\")\n",
    "    np.save(feature_file_name, combined_features)\n",
    "\n",
    "    # Print progress\n",
    "    print(f\"Processed and saved features for {i}/{len(stl_files)}: {stl_file}\")\n",
    "\n"
   ]
  },
  {
   "cell_type": "code",
   "execution_count": null,
   "metadata": {
    "id": "waHxyXlGh6VW"
   },
   "outputs": [],
   "source": []
  }
 ],
 "metadata": {
  "colab": {
   "provenance": []
  },
  "kernelspec": {
   "display_name": "Python 3",
   "name": "python3"
  },
  "language_info": {
   "name": "python"
  }
 },
 "nbformat": 4,
 "nbformat_minor": 0
}
